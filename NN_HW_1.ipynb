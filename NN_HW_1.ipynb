{
  "nbformat": 4,
  "nbformat_minor": 0,
  "metadata": {
    "colab": {
      "name": "NN_HW_1.ipynb",
      "provenance": [],
      "collapsed_sections": [],
      "include_colab_link": true
    },
    "kernelspec": {
      "name": "python3",
      "display_name": "Python 3"
    },
    "accelerator": "GPU"
  },
  "cells": [
    {
      "cell_type": "markdown",
      "metadata": {
        "id": "view-in-github",
        "colab_type": "text"
      },
      "source": [
        "<a href=\"https://colab.research.google.com/github/SLVmain/Neural_Networks_practice/blob/main/NN_HW_1.ipynb\" target=\"_parent\"><img src=\"https://colab.research.google.com/assets/colab-badge.svg\" alt=\"Open In Colab\"/></a>"
      ]
    },
    {
      "cell_type": "code",
      "metadata": {
        "id": "hBMkkgdRRgZd"
      },
      "source": [
        "from tensorflow.keras.datasets import mnist #Библиотека с базой Mnist\n",
        "from tensorflow.keras.models import Sequential # Подлючаем класс создания модели Sequential\n",
        "from tensorflow.keras.layers import Dense # Подключаем класс Dense - полносвязный слой\n",
        "from tensorflow.keras.optimizers import Adam # Подключаем оптимизатор Adam\n",
        "from tensorflow.keras import utils #Утилиты для to_categorical\n",
        "from tensorflow.keras.preprocessing import image #Для отрисовки изображения\n",
        "import numpy as np # Подключаем библиотеку numpy\n",
        "import pylab # Модуль для построения графиков\n",
        "from mpl_toolkits.mplot3d import Axes3D # Модуль для трехмерной графики\n",
        "from google.colab import files #Для загрузки своей картинки\n",
        "import matplotlib.pyplot as plt #Отрисовка изображений\n",
        "from PIL import Image #Отрисовка изображений\n",
        "#Отрисовывать изображения в ноутбуке, а не в консоль или файл\n",
        "%matplotlib inline "
      ],
      "execution_count": 1,
      "outputs": []
    },
    {
      "cell_type": "markdown",
      "source": [
        "# Распознавание рукописных цифр"
      ],
      "metadata": {
        "id": "hAkF_ZDjMPMI"
      }
    },
    {
      "cell_type": "code",
      "metadata": {
        "id": "xnYVjcnJC4TY",
        "colab": {
          "base_uri": "https://localhost:8080/"
        },
        "outputId": "a871c322-c923-4775-a5ce-34992167e6de"
      },
      "source": [
        "(x_train_org, y_train_org), (x_test_org, y_test_org) = mnist.load_data() #Загрузка данных Mnist"
      ],
      "execution_count": 2,
      "outputs": [
        {
          "output_type": "stream",
          "name": "stdout",
          "text": [
            "Downloading data from https://storage.googleapis.com/tensorflow/tf-keras-datasets/mnist.npz\n",
            "11493376/11490434 [==============================] - 0s 0us/step\n",
            "11501568/11490434 [==============================] - 0s 0us/step\n"
          ]
        }
      ]
    },
    {
      "cell_type": "code",
      "metadata": {
        "id": "ixb5KVPvdHT7",
        "colab": {
          "base_uri": "https://localhost:8080/"
        },
        "outputId": "834c2c85-b688-4870-c878-faa75e15966b"
      },
      "source": [
        "x_train_org[0]"
      ],
      "execution_count": 3,
      "outputs": [
        {
          "output_type": "execute_result",
          "data": {
            "text/plain": [
              "array([[  0,   0,   0,   0,   0,   0,   0,   0,   0,   0,   0,   0,   0,\n",
              "          0,   0,   0,   0,   0,   0,   0,   0,   0,   0,   0,   0,   0,\n",
              "          0,   0],\n",
              "       [  0,   0,   0,   0,   0,   0,   0,   0,   0,   0,   0,   0,   0,\n",
              "          0,   0,   0,   0,   0,   0,   0,   0,   0,   0,   0,   0,   0,\n",
              "          0,   0],\n",
              "       [  0,   0,   0,   0,   0,   0,   0,   0,   0,   0,   0,   0,   0,\n",
              "          0,   0,   0,   0,   0,   0,   0,   0,   0,   0,   0,   0,   0,\n",
              "          0,   0],\n",
              "       [  0,   0,   0,   0,   0,   0,   0,   0,   0,   0,   0,   0,   0,\n",
              "          0,   0,   0,   0,   0,   0,   0,   0,   0,   0,   0,   0,   0,\n",
              "          0,   0],\n",
              "       [  0,   0,   0,   0,   0,   0,   0,   0,   0,   0,   0,   0,   0,\n",
              "          0,   0,   0,   0,   0,   0,   0,   0,   0,   0,   0,   0,   0,\n",
              "          0,   0],\n",
              "       [  0,   0,   0,   0,   0,   0,   0,   0,   0,   0,   0,   0,   3,\n",
              "         18,  18,  18, 126, 136, 175,  26, 166, 255, 247, 127,   0,   0,\n",
              "          0,   0],\n",
              "       [  0,   0,   0,   0,   0,   0,   0,   0,  30,  36,  94, 154, 170,\n",
              "        253, 253, 253, 253, 253, 225, 172, 253, 242, 195,  64,   0,   0,\n",
              "          0,   0],\n",
              "       [  0,   0,   0,   0,   0,   0,   0,  49, 238, 253, 253, 253, 253,\n",
              "        253, 253, 253, 253, 251,  93,  82,  82,  56,  39,   0,   0,   0,\n",
              "          0,   0],\n",
              "       [  0,   0,   0,   0,   0,   0,   0,  18, 219, 253, 253, 253, 253,\n",
              "        253, 198, 182, 247, 241,   0,   0,   0,   0,   0,   0,   0,   0,\n",
              "          0,   0],\n",
              "       [  0,   0,   0,   0,   0,   0,   0,   0,  80, 156, 107, 253, 253,\n",
              "        205,  11,   0,  43, 154,   0,   0,   0,   0,   0,   0,   0,   0,\n",
              "          0,   0],\n",
              "       [  0,   0,   0,   0,   0,   0,   0,   0,   0,  14,   1, 154, 253,\n",
              "         90,   0,   0,   0,   0,   0,   0,   0,   0,   0,   0,   0,   0,\n",
              "          0,   0],\n",
              "       [  0,   0,   0,   0,   0,   0,   0,   0,   0,   0,   0, 139, 253,\n",
              "        190,   2,   0,   0,   0,   0,   0,   0,   0,   0,   0,   0,   0,\n",
              "          0,   0],\n",
              "       [  0,   0,   0,   0,   0,   0,   0,   0,   0,   0,   0,  11, 190,\n",
              "        253,  70,   0,   0,   0,   0,   0,   0,   0,   0,   0,   0,   0,\n",
              "          0,   0],\n",
              "       [  0,   0,   0,   0,   0,   0,   0,   0,   0,   0,   0,   0,  35,\n",
              "        241, 225, 160, 108,   1,   0,   0,   0,   0,   0,   0,   0,   0,\n",
              "          0,   0],\n",
              "       [  0,   0,   0,   0,   0,   0,   0,   0,   0,   0,   0,   0,   0,\n",
              "         81, 240, 253, 253, 119,  25,   0,   0,   0,   0,   0,   0,   0,\n",
              "          0,   0],\n",
              "       [  0,   0,   0,   0,   0,   0,   0,   0,   0,   0,   0,   0,   0,\n",
              "          0,  45, 186, 253, 253, 150,  27,   0,   0,   0,   0,   0,   0,\n",
              "          0,   0],\n",
              "       [  0,   0,   0,   0,   0,   0,   0,   0,   0,   0,   0,   0,   0,\n",
              "          0,   0,  16,  93, 252, 253, 187,   0,   0,   0,   0,   0,   0,\n",
              "          0,   0],\n",
              "       [  0,   0,   0,   0,   0,   0,   0,   0,   0,   0,   0,   0,   0,\n",
              "          0,   0,   0,   0, 249, 253, 249,  64,   0,   0,   0,   0,   0,\n",
              "          0,   0],\n",
              "       [  0,   0,   0,   0,   0,   0,   0,   0,   0,   0,   0,   0,   0,\n",
              "          0,  46, 130, 183, 253, 253, 207,   2,   0,   0,   0,   0,   0,\n",
              "          0,   0],\n",
              "       [  0,   0,   0,   0,   0,   0,   0,   0,   0,   0,   0,   0,  39,\n",
              "        148, 229, 253, 253, 253, 250, 182,   0,   0,   0,   0,   0,   0,\n",
              "          0,   0],\n",
              "       [  0,   0,   0,   0,   0,   0,   0,   0,   0,   0,  24, 114, 221,\n",
              "        253, 253, 253, 253, 201,  78,   0,   0,   0,   0,   0,   0,   0,\n",
              "          0,   0],\n",
              "       [  0,   0,   0,   0,   0,   0,   0,   0,  23,  66, 213, 253, 253,\n",
              "        253, 253, 198,  81,   2,   0,   0,   0,   0,   0,   0,   0,   0,\n",
              "          0,   0],\n",
              "       [  0,   0,   0,   0,   0,   0,  18, 171, 219, 253, 253, 253, 253,\n",
              "        195,  80,   9,   0,   0,   0,   0,   0,   0,   0,   0,   0,   0,\n",
              "          0,   0],\n",
              "       [  0,   0,   0,   0,  55, 172, 226, 253, 253, 253, 253, 244, 133,\n",
              "         11,   0,   0,   0,   0,   0,   0,   0,   0,   0,   0,   0,   0,\n",
              "          0,   0],\n",
              "       [  0,   0,   0,   0, 136, 253, 253, 253, 212, 135, 132,  16,   0,\n",
              "          0,   0,   0,   0,   0,   0,   0,   0,   0,   0,   0,   0,   0,\n",
              "          0,   0],\n",
              "       [  0,   0,   0,   0,   0,   0,   0,   0,   0,   0,   0,   0,   0,\n",
              "          0,   0,   0,   0,   0,   0,   0,   0,   0,   0,   0,   0,   0,\n",
              "          0,   0],\n",
              "       [  0,   0,   0,   0,   0,   0,   0,   0,   0,   0,   0,   0,   0,\n",
              "          0,   0,   0,   0,   0,   0,   0,   0,   0,   0,   0,   0,   0,\n",
              "          0,   0],\n",
              "       [  0,   0,   0,   0,   0,   0,   0,   0,   0,   0,   0,   0,   0,\n",
              "          0,   0,   0,   0,   0,   0,   0,   0,   0,   0,   0,   0,   0,\n",
              "          0,   0]], dtype=uint8)"
            ]
          },
          "metadata": {},
          "execution_count": 3
        }
      ]
    },
    {
      "cell_type": "code",
      "metadata": {
        "id": "ts-z0Oh_EJJ_",
        "colab": {
          "base_uri": "https://localhost:8080/",
          "height": 265
        },
        "outputId": "c424daa3-2a7d-4435-c2fc-bdbe706e0ee9"
      },
      "source": [
        "n = 10 #Номер картинки\n",
        "plt.imshow(x_train_org[n], cmap='viridis') #Отрисовка картинки\n",
        "plt.show() # Вывод картинки"
      ],
      "execution_count": 5,
      "outputs": [
        {
          "output_type": "display_data",
          "data": {
            "image/png": "[encoded data removed]",
            "text/plain": [
              "<Figure size 432x288 with 1 Axes>"
            ]
          },
          "metadata": {
            "needs_background": "light"
          }
        }
      ]
    },
    {
      "cell_type": "code",
      "metadata": {
        "id": "GJYkhq7Xgl5R"
      },
      "source": [
        ""
      ],
      "execution_count": null,
      "outputs": []
    },
    {
      "cell_type": "code",
      "metadata": {
        "id": "StxOw0C6EQQd",
        "colab": {
          "base_uri": "https://localhost:8080/"
        },
        "outputId": "5c6a9deb-4d3f-45b3-b5ee-a1a899b1b037"
      },
      "source": [
        "#Меняем формат входных картинок с 28х28 на 784х1\n",
        "x_train = x_train_org.reshape(60000, 784)\n",
        "x_test = x_test_org.reshape(10000, 784)\n",
        "print(x_train_org.shape)\n",
        "print(x_train.shape)"
      ],
      "execution_count": 6,
      "outputs": [
        {
          "output_type": "stream",
          "name": "stdout",
          "text": [
            "(60000, 28, 28)\n",
            "(60000, 784)\n"
          ]
        }
      ]
    },
    {
      "cell_type": "code",
      "metadata": {
        "id": "R5cW-u8eEXBN"
      },
      "source": [
        "#Нормализуем входные картинки\n",
        "x_train = x_train.astype('float32') # преобразовываем x_train в тип float (цифры с плавающей точкой)\n",
        "x_train = x_train / 255 # делим на 255, чтобы диапазон был от 0 до 1\n",
        "x_test = x_test.astype('float32') # преобразовываем x_test в тип float (цифры с плавающей точкой)\n",
        "x_test = x_test / 255 # делим на 255, чтобы диапазон был от 0 до 1"
      ],
      "execution_count": 7,
      "outputs": []
    },
    {
      "cell_type": "code",
      "metadata": {
        "id": "OOerDh0Aj1ol",
        "colab": {
          "base_uri": "https://localhost:8080/"
        },
        "outputId": "bf70a161-3deb-4086-de17-9a664ba1e9cd"
      },
      "source": [
        "y_train_org[0]"
      ],
      "execution_count": 8,
      "outputs": [
        {
          "output_type": "execute_result",
          "data": {
            "text/plain": [
              "5"
            ]
          },
          "metadata": {},
          "execution_count": 8
        }
      ]
    },
    {
      "cell_type": "code",
      "metadata": {
        "id": "K1EUAdt5j3kA",
        "colab": {
          "base_uri": "https://localhost:8080/"
        },
        "outputId": "7bfcbc49-df49-40a7-83b3-9d3af1d975db"
      },
      "source": [
        "utils.to_categorical(y_train_org[0], 10)"
      ],
      "execution_count": 9,
      "outputs": [
        {
          "output_type": "execute_result",
          "data": {
            "text/plain": [
              "array([0., 0., 0., 0., 0., 1., 0., 0., 0., 0.], dtype=float32)"
            ]
          },
          "metadata": {},
          "execution_count": 9
        }
      ]
    },
    {
      "cell_type": "code",
      "metadata": {
        "id": "zrxFxFA5EsVU"
      },
      "source": [
        "# Преобразуем ответы в формат one_hot_encoding\n",
        "y_train = utils.to_categorical(y_train_org, 10)\n",
        "y_test = utils.to_categorical(y_test_org, 10)"
      ],
      "execution_count": 10,
      "outputs": []
    },
    {
      "cell_type": "code",
      "metadata": {
        "id": "7AiDf79FE2Xk",
        "colab": {
          "base_uri": "https://localhost:8080/"
        },
        "outputId": "21944ac3-141f-4488-a207-ab23cc6ab412"
      },
      "source": [
        "#Выводим размер y_train\n",
        "#60 тысяч примеров, каждый размера 10 (так как 10 классов)\n",
        "print(y_train.shape)"
      ],
      "execution_count": 11,
      "outputs": [
        {
          "output_type": "stream",
          "name": "stdout",
          "text": [
            "(60000, 10)\n"
          ]
        }
      ]
    },
    {
      "cell_type": "code",
      "metadata": {
        "id": "i7MZ1HbBE7me",
        "colab": {
          "base_uri": "https://localhost:8080/"
        },
        "outputId": "329c12f3-6439-4718-b776-a61f8d2acced"
      },
      "source": [
        "print(y_train[n]) #Выводим пример одного выходного вектора"
      ],
      "execution_count": 12,
      "outputs": [
        {
          "output_type": "stream",
          "name": "stdout",
          "text": [
            "[0. 0. 0. 1. 0. 0. 0. 0. 0. 0.]\n"
          ]
        }
      ]
    },
    {
      "cell_type": "code",
      "metadata": {
        "id": "LyIjTL5BNxus",
        "colab": {
          "base_uri": "https://localhost:8080/"
        },
        "outputId": "cc03a97d-e312-432c-975b-50ae1527383e"
      },
      "source": [
        "print(y_train_org.shape)"
      ],
      "execution_count": 13,
      "outputs": [
        {
          "output_type": "stream",
          "name": "stdout",
          "text": [
            "(60000,)\n"
          ]
        }
      ]
    },
    {
      "cell_type": "code",
      "metadata": {
        "id": "L6kqzxeiN0IK",
        "colab": {
          "base_uri": "https://localhost:8080/"
        },
        "outputId": "fce40e31-4829-4d93-beb2-d37c658bb79c"
      },
      "source": [
        "print(y_train_org[36])"
      ],
      "execution_count": 14,
      "outputs": [
        {
          "output_type": "stream",
          "name": "stdout",
          "text": [
            "6\n"
          ]
        }
      ]
    },
    {
      "cell_type": "code",
      "metadata": {
        "id": "odi8yVyxE-w5"
      },
      "source": [
        "model = Sequential() # Создаём сеть прямого распространения\n",
        "model.add(Dense(800, input_dim=784, activation=\"relu\")) # Добавляем полносвязный слой на 800 нейронов с relu-активацией\n",
        "model.add(Dense(400, activation=\"relu\")) # Добавляем полносвязный слой на 400 нейронов с relu-активацией\n",
        "model.add(Dense(10, activation=\"softmax\")) # Добавляем полносвязный слой на 10 нейронов с softmax-активацией"
      ],
      "execution_count": 15,
      "outputs": []
    },
    {
      "cell_type": "code",
      "metadata": {
        "id": "6EMUkxTqFkc1",
        "colab": {
          "base_uri": "https://localhost:8080/"
        },
        "outputId": "d40166cc-61b6-4b75-e8ec-5f083dbead25"
      },
      "source": [
        "model.compile(loss=\"categorical_crossentropy\", optimizer=\"adam\", metrics=[\"accuracy\"]) # Компилируем модель\n",
        "print(model.summary()) #Вывод структуры модели"
      ],
      "execution_count": 16,
      "outputs": [
        {
          "output_type": "stream",
          "name": "stdout",
          "text": [
            "Model: \"sequential\"\n",
            "_________________________________________________________________\n",
            " Layer (type)                Output Shape              Param #   \n",
            "=================================================================\n",
            " dense (Dense)               (None, 800)               628000    \n",
            "                                                                 \n",
            " dense_1 (Dense)             (None, 400)               320400    \n",
            "                                                                 \n",
            " dense_2 (Dense)             (None, 10)                4010      \n",
            "                                                                 \n",
            "=================================================================\n",
            "Total params: 952,410\n",
            "Trainable params: 952,410\n",
            "Non-trainable params: 0\n",
            "_________________________________________________________________\n",
            "None\n"
          ]
        }
      ]
    },
    {
      "cell_type": "code",
      "metadata": {
        "id": "tzArU3n3F6Lo",
        "colab": {
          "base_uri": "https://localhost:8080/"
        },
        "outputId": "809d7263-afd4-4fee-f13b-7d2432a09ba4"
      },
      "source": [
        "#fit - функция обучения нейронки\n",
        "#x_train, y_train - обучающая выборка, входные и выходные данные\n",
        "#batch_size - размер батча, количество примеров, которое обрабатывает нейронка перед одним изменением весов\n",
        "#epochs - количество эпох, когда нейронка обучается на всех примерах выборки\n",
        "#verbose - 0 - не визуализировать ход обучения, 1 - визуализировать\n",
        "model.fit(x_train, y_train, batch_size=128, epochs=15, verbose=1, validation_split=0.2)"
      ],
      "execution_count": 17,
      "outputs": [
        {
          "output_type": "stream",
          "name": "stdout",
          "text": [
            "Epoch 1/15\n",
            "375/375 [==============================] - 5s 7ms/step - loss: 0.2341 - accuracy: 0.9311 - val_loss: 0.1171 - val_accuracy: 0.9661\n",
            "Epoch 2/15\n",
            "375/375 [==============================] - 2s 6ms/step - loss: 0.0844 - accuracy: 0.9743 - val_loss: 0.0921 - val_accuracy: 0.9724\n",
            "Epoch 3/15\n",
            "375/375 [==============================] - 2s 6ms/step - loss: 0.0519 - accuracy: 0.9831 - val_loss: 0.0992 - val_accuracy: 0.9719\n",
            "Epoch 4/15\n",
            "375/375 [==============================] - 2s 6ms/step - loss: 0.0359 - accuracy: 0.9884 - val_loss: 0.0821 - val_accuracy: 0.9762\n",
            "Epoch 5/15\n",
            "375/375 [==============================] - 2s 6ms/step - loss: 0.0255 - accuracy: 0.9921 - val_loss: 0.0814 - val_accuracy: 0.9772\n",
            "Epoch 6/15\n",
            "375/375 [==============================] - 2s 6ms/step - loss: 0.0207 - accuracy: 0.9931 - val_loss: 0.0852 - val_accuracy: 0.9770\n",
            "Epoch 7/15\n",
            "375/375 [==============================] - 2s 6ms/step - loss: 0.0192 - accuracy: 0.9932 - val_loss: 0.1058 - val_accuracy: 0.9750\n",
            "Epoch 8/15\n",
            "375/375 [==============================] - 2s 6ms/step - loss: 0.0145 - accuracy: 0.9954 - val_loss: 0.0845 - val_accuracy: 0.9795\n",
            "Epoch 9/15\n",
            "375/375 [==============================] - 2s 6ms/step - loss: 0.0145 - accuracy: 0.9949 - val_loss: 0.0930 - val_accuracy: 0.9772\n",
            "Epoch 10/15\n",
            "375/375 [==============================] - 2s 6ms/step - loss: 0.0172 - accuracy: 0.9939 - val_loss: 0.1021 - val_accuracy: 0.9756\n",
            "Epoch 11/15\n",
            "375/375 [==============================] - 2s 6ms/step - loss: 0.0123 - accuracy: 0.9962 - val_loss: 0.0933 - val_accuracy: 0.9797\n",
            "Epoch 12/15\n",
            "375/375 [==============================] - 2s 6ms/step - loss: 0.0056 - accuracy: 0.9983 - val_loss: 0.1122 - val_accuracy: 0.9775\n",
            "Epoch 13/15\n",
            "375/375 [==============================] - 3s 7ms/step - loss: 0.0105 - accuracy: 0.9967 - val_loss: 0.1156 - val_accuracy: 0.9767\n",
            "Epoch 14/15\n",
            "375/375 [==============================] - 2s 6ms/step - loss: 0.0165 - accuracy: 0.9945 - val_loss: 0.1123 - val_accuracy: 0.9772\n",
            "Epoch 15/15\n",
            "375/375 [==============================] - 2s 6ms/step - loss: 0.0062 - accuracy: 0.9980 - val_loss: 0.1028 - val_accuracy: 0.9795\n"
          ]
        },
        {
          "output_type": "execute_result",
          "data": {
            "text/plain": [
              "<keras.callbacks.History at 0x7f4f6054d1d0>"
            ]
          },
          "metadata": {},
          "execution_count": 17
        }
      ]
    },
    {
      "cell_type": "code",
      "metadata": {
        "id": "u0RaYMg1lXFa"
      },
      "source": [
        ""
      ],
      "execution_count": null,
      "outputs": []
    },
    {
      "cell_type": "code",
      "metadata": {
        "id": "nmxH0W_QSOIX"
      },
      "source": [
        "model.save_weights('model.h5')\n",
        "model.load_weights('model.h5')"
      ],
      "execution_count": 18,
      "outputs": []
    },
    {
      "cell_type": "markdown",
      "metadata": {
        "id": "ExUOoWQOGvw6"
      },
      "source": [
        "## Распознавание рукописных цифр\n",
        "\n",
        "\n"
      ]
    },
    {
      "cell_type": "code",
      "metadata": {
        "id": "ydE7Bb-5G82-",
        "colab": {
          "base_uri": "https://localhost:8080/",
          "height": 265
        },
        "outputId": "fd12e66b-0e04-418b-8651-e7aed8a60f46"
      },
      "source": [
        "n_rec = 123 #Номер тестовой цифры, которую будем распознавать\n",
        "plt.imshow(Image.fromarray(x_test_org[n_rec]).convert('RGBA')) # Нарисуем картинку из тестового набора под номером n_rec\n",
        "plt.show()"
      ],
      "execution_count": 25,
      "outputs": [
        {
          "output_type": "display_data",
          "data": {
            "image/png": "[encoded data removed]",
            "text/plain": [
              "<Figure size 432x288 with 1 Axes>"
            ]
          },
          "metadata": {
            "needs_background": "light"
          }
        }
      ]
    },
    {
      "cell_type": "code",
      "metadata": {
        "id": "_85gvY6uHABc",
        "colab": {
          "base_uri": "https://localhost:8080/"
        },
        "outputId": "1d394f08-b17f-46be-dc84-e85b2efb4275"
      },
      "source": [
        "#Выбираем нужную картинку из тестовой выборки\n",
        "x = x_test[n_rec]\n",
        "print(x.shape)"
      ],
      "execution_count": 26,
      "outputs": [
        {
          "output_type": "stream",
          "name": "stdout",
          "text": [
            "(784,)\n"
          ]
        }
      ]
    },
    {
      "cell_type": "code",
      "metadata": {
        "id": "IljyFhj0HPPC",
        "colab": {
          "base_uri": "https://localhost:8080/"
        },
        "outputId": "3b7a0bc4-ee4c-448a-a6b4-ea8c7ac2e90a"
      },
      "source": [
        "#Добавляем одну размерность в конце, чтобы нейронка могла распознать пример\n",
        "#Потому что нейронка принимает именно массив примеров для распознавания\n",
        "#Мы делаем массив из одного примера\n",
        "x = np.expand_dims(x, axis=0)\n",
        "print(x.shape)"
      ],
      "execution_count": 27,
      "outputs": [
        {
          "output_type": "stream",
          "name": "stdout",
          "text": [
            "(1, 784)\n"
          ]
        }
      ]
    },
    {
      "cell_type": "code",
      "metadata": {
        "id": "VigT6aeAHQ91"
      },
      "source": [
        "prediction = model.predict(x) #Распознаём наш пример"
      ],
      "execution_count": 28,
      "outputs": []
    },
    {
      "cell_type": "code",
      "metadata": {
        "id": "fGF9xUCRHSOE",
        "colab": {
          "base_uri": "https://localhost:8080/"
        },
        "outputId": "2b6e5637-8562-4105-a381-1ddb15991eb0"
      },
      "source": [
        "print(prediction) #Выводим результат, это 10 цифр"
      ],
      "execution_count": 29,
      "outputs": [
        {
          "output_type": "stream",
          "name": "stdout",
          "text": [
            "[[3.1150267e-12 2.5688941e-08 1.2967399e-15 3.5868507e-16 3.6393268e-13\n",
            "  5.4700365e-08 1.0000000e+00 5.6460252e-14 5.1145029e-11 1.8984050e-15]]\n"
          ]
        }
      ]
    },
    {
      "cell_type": "code",
      "metadata": {
        "id": "9pg67PW9HV4A",
        "colab": {
          "base_uri": "https://localhost:8080/"
        },
        "outputId": "e97a56a2-fc9c-4741-d989-1ac033e9c1d8"
      },
      "source": [
        "prediction = np.argmax(prediction) # Получаем индекс самого большого элемента (это итоговая цифра, которую распознала сеть)\n",
        "print(prediction)"
      ],
      "execution_count": 30,
      "outputs": [
        {
          "output_type": "stream",
          "name": "stdout",
          "text": [
            "6\n"
          ]
        }
      ]
    },
    {
      "cell_type": "code",
      "metadata": {
        "id": "72Rbs1E9HeRZ",
        "colab": {
          "base_uri": "https://localhost:8080/"
        },
        "outputId": "381bccf0-854a-41f7-d93d-7dac6a5605a3"
      },
      "source": [
        "print(y_test_org[n_rec]) #выводим правильный ответ, для сравнения"
      ],
      "execution_count": 31,
      "outputs": [
        {
          "output_type": "stream",
          "name": "stdout",
          "text": [
            "6\n"
          ]
        }
      ]
    },
    {
      "cell_type": "markdown",
      "source": [
        "Распознайте рукописную цифру, созданную вами с помощью графического редактора (например,\n",
        "Paint).\n",
        "Последовательность шагов:\n",
        "1. В графическом редакторе рисуем произвольную цифру.\n",
        "2. Сохраняем документ и загружаем его в Collaboratory.\n",
        "3. С помощью функции image.load_img(path, target_size=(28, 28), color_mode = ‘grayscale’)\n",
        "загружаем картинку в переменную.\n",
        "4. С помощью функции image.img_to_array(img) преобразуем изображение в numpy-массив.\n",
        "5. Выполняем инверсию цветов, нормирование и решейп массива.\n",
        "6. Выполняем распознавание собственной рукописной цифры.\n",
        "Реализуйте тот же алгоритм для написанной на листе от руки цифры (для этого необходимо сделать\n",
        "дополнительную предобработку изображения)."
      ],
      "metadata": {
        "id": "h_0sNh60TD2B"
      }
    },
    {
      "cell_type": "code",
      "source": [
        "image_tt = image.load_img('4_.png', target_size=(28, 28), color_mode = 'grayscale')"
      ],
      "metadata": {
        "id": "sqUpI8v8TFGB"
      },
      "execution_count": 33,
      "outputs": []
    },
    {
      "cell_type": "code",
      "source": [
        "plt.imshow(image_tt, cmap='viridis') #Отрисовка картинки\n",
        "plt.show() # Вывод картинки"
      ],
      "metadata": {
        "colab": {
          "base_uri": "https://localhost:8080/",
          "height": 265
        },
        "id": "3-w6M8VwUlMx",
        "outputId": "3a7296e3-34b4-47c6-88ad-5d9facb25dd5"
      },
      "execution_count": 34,
      "outputs": [
        {
          "output_type": "display_data",
          "data": {
            "image/png": "[encoded data removed]",
            "text/plain": [
              "<Figure size 432x288 with 1 Axes>"
            ]
          },
          "metadata": {
            "needs_background": "light"
          }
        }
      ]
    },
    {
      "cell_type": "code",
      "source": [
        " image_tt = image.img_to_array(image_tt)"
      ],
      "metadata": {
        "id": "raEyQ99zU7QO"
      },
      "execution_count": 35,
      "outputs": []
    },
    {
      "cell_type": "code",
      "source": [
        "#Меняем формат входных картинок с 28х28 на 784х1\n",
        "image_tt_r = image_tt.reshape(784)\n",
        "image_tt_r"
      ],
      "metadata": {
        "colab": {
          "base_uri": "https://localhost:8080/"
        },
        "id": "HAs3XsJvVFcL",
        "outputId": "538b1333-353e-4a8a-b93e-6bf0a7d658ae"
      },
      "execution_count": 37,
      "outputs": [
        {
          "output_type": "execute_result",
          "data": {
            "text/plain": [
              "array([255., 255., 255., 255., 255., 255., 255., 255., 255., 255., 255.,\n",
              "       255., 255., 255., 255., 255., 255., 255., 255., 255., 255., 255.,\n",
              "       255., 255., 255., 255., 255., 255., 255., 255., 255., 255., 255.,\n",
              "       255., 255., 255., 255., 255., 255., 255., 255., 255., 255., 255.,\n",
              "       255., 255., 255., 255., 255., 255., 255., 255., 255., 255., 255.,\n",
              "       255., 255., 255., 255., 255., 255., 255., 255., 255., 255., 255.,\n",
              "       255., 255.,   0., 255., 255., 255., 255., 255., 255., 255., 255.,\n",
              "       255., 255., 255., 255., 255., 255., 255., 255., 255., 255., 255.,\n",
              "       255., 255., 255., 255., 255., 255., 255., 255.,   0., 255., 255.,\n",
              "       255., 255., 255., 255., 255., 255., 255., 255., 255., 255., 255.,\n",
              "       255., 255., 255., 255., 255., 255., 255., 255., 255., 255., 255.,\n",
              "       255., 255.,   0.,   0., 255., 255., 255., 255., 255., 255., 255.,\n",
              "       255., 255., 255., 255., 255., 255., 255., 255., 255., 255., 255.,\n",
              "       255., 255., 255., 255., 255., 255., 255., 255.,   0., 255., 255.,\n",
              "       255., 255., 255., 255., 255., 255., 255., 255., 255., 255., 255.,\n",
              "       255., 255., 255., 255., 255., 255., 255., 255., 255., 255., 255.,\n",
              "       255., 255., 255.,   0., 255., 255., 255., 255., 255., 255., 255.,\n",
              "       255., 255., 255., 255., 255., 255., 255., 255., 255., 255., 255.,\n",
              "       255., 255., 255., 255., 255., 255., 255., 255.,   0.,   0., 255.,\n",
              "       255., 255., 255., 255., 255., 255.,   0., 255., 255., 255., 255.,\n",
              "       255., 255., 255., 255., 255., 255., 255., 255., 255., 255., 255.,\n",
              "       255., 255., 255.,   0., 255., 255., 255., 255., 255., 255., 255.,\n",
              "       255.,   0., 255., 255., 255., 255., 255., 255., 255., 255., 255.,\n",
              "       255., 255., 255., 255., 255., 255., 255., 255.,   0.,   0., 255.,\n",
              "       255., 255., 255., 255., 255., 255.,   0.,   0., 255., 255., 255.,\n",
              "       255., 255., 255., 255., 255., 255., 255., 255., 255., 255., 255.,\n",
              "       255., 255., 255.,   0., 255., 255., 255., 255., 255., 255., 255.,\n",
              "         0.,   0., 255., 255., 255., 255., 255., 255., 255., 255., 255.,\n",
              "       255., 255., 255., 255., 255., 255., 255., 255., 255.,   0., 255.,\n",
              "       255., 255., 255., 255., 255., 255.,   0.,   0., 255., 255., 255.,\n",
              "       255., 255., 255., 255., 255., 255., 255., 255., 255., 255., 255.,\n",
              "       255., 255., 255.,   0.,   0., 255., 255., 255., 255., 255., 255.,\n",
              "         0.,   0., 255., 255., 255., 255., 255., 255., 255., 255., 255.,\n",
              "       255., 255., 255., 255., 255., 255., 255., 255., 255.,   0.,   0.,\n",
              "         0.,   0.,   0.,   0.,   0.,   0.,   0., 255., 255., 255., 255.,\n",
              "       255., 255., 255., 255., 255., 255., 255., 255., 255., 255., 255.,\n",
              "       255., 255., 255., 255.,   0.,   0.,   0.,   0.,   0.,   0.,   0.,\n",
              "         0.,   0., 255., 255., 255., 255., 255., 255., 255., 255., 255.,\n",
              "       255., 255., 255., 255., 255., 255., 255., 255., 255., 255., 255.,\n",
              "       255., 255., 255., 255., 255., 255.,   0., 255., 255., 255., 255.,\n",
              "       255., 255., 255., 255., 255., 255., 255., 255., 255., 255., 255.,\n",
              "       255., 255., 255., 255., 255., 255., 255., 255., 255., 255., 255.,\n",
              "         0.,   0., 255., 255., 255., 255., 255., 255., 255., 255., 255.,\n",
              "       255., 255., 255., 255., 255., 255., 255., 255., 255., 255., 255.,\n",
              "       255., 255., 255., 255., 255., 255.,   0., 255., 255., 255., 255.,\n",
              "       255., 255., 255., 255., 255., 255., 255., 255., 255., 255., 255.,\n",
              "       255., 255., 255., 255., 255., 255., 255., 255., 255., 255., 255.,\n",
              "       255.,   0., 255., 255., 255., 255., 255., 255., 255., 255., 255.,\n",
              "       255., 255., 255., 255., 255., 255., 255., 255., 255., 255., 255.,\n",
              "       255., 255., 255., 255., 255., 255., 255.,   0., 255., 255., 255.,\n",
              "       255., 255., 255., 255., 255., 255., 255., 255., 255., 255., 255.,\n",
              "       255., 255., 255., 255., 255., 255., 255., 255., 255., 255., 255.,\n",
              "       255.,   0.,   0., 255., 255., 255., 255., 255., 255., 255., 255.,\n",
              "       255., 255., 255., 255., 255., 255., 255., 255., 255., 255., 255.,\n",
              "       255., 255., 255., 255., 255., 255., 255.,   0., 255., 255., 255.,\n",
              "       255., 255., 255., 255., 255., 255., 255., 255., 255., 255., 255.,\n",
              "       255., 255., 255., 255., 255., 255., 255., 255., 255., 255., 255.,\n",
              "       255.,   0.,   0., 255., 255., 255., 255., 255., 255., 255., 255.,\n",
              "       255., 255., 255., 255., 255., 255., 255., 255., 255., 255., 255.,\n",
              "       255., 255., 255., 255., 255., 255., 255.,   0.,   0., 255., 255.,\n",
              "       255., 255., 255., 255., 255., 255., 255., 255., 255., 255., 255.,\n",
              "       255., 255., 255., 255., 255., 255., 255., 255., 255., 255., 255.,\n",
              "       255., 255.,   0., 255., 255., 255., 255., 255., 255., 255., 255.,\n",
              "       255., 255., 255., 255., 255., 255., 255., 255., 255., 255., 255.,\n",
              "       255., 255., 255., 255., 255., 255., 255., 255., 255., 255., 255.,\n",
              "       255., 255., 255., 255., 255., 255., 255., 255., 255., 255., 255.,\n",
              "       255., 255., 255., 255., 255., 255., 255., 255., 255., 255., 255.,\n",
              "       255., 255., 255., 255., 255., 255., 255., 255., 255., 255., 255.,\n",
              "       255., 255., 255., 255., 255., 255., 255., 255., 255., 255., 255.,\n",
              "       255., 255., 255., 255., 255., 255., 255., 255., 255., 255., 255.,\n",
              "       255., 255., 255., 255., 255., 255., 255., 255., 255., 255., 255.,\n",
              "       255., 255., 255.], dtype=float32)"
            ]
          },
          "metadata": {},
          "execution_count": 37
        }
      ]
    },
    {
      "cell_type": "code",
      "source": [
        "#example = image.img_to_array(example) # преобразуем изображение в numpy-массив\n",
        "example = image_tt_r.reshape(1,784)\n",
        "#example = example.astype('float32')\n",
        "example = 1- example/255"
      ],
      "metadata": {
        "id": "7Xgv_tqgWfVo"
      },
      "execution_count": 38,
      "outputs": []
    },
    {
      "cell_type": "code",
      "source": [
        "pred_example = model.predict(example)\n",
        "print(pred_example)"
      ],
      "metadata": {
        "colab": {
          "base_uri": "https://localhost:8080/"
        },
        "id": "ClIdZgrYW1oz",
        "outputId": "b9db608c-c818-460c-aa37-c8fb79b7796b"
      },
      "execution_count": 40,
      "outputs": [
        {
          "output_type": "stream",
          "name": "stdout",
          "text": [
            "[[7.3861514e-11 1.0482216e-09 1.3870019e-07 7.2843108e-08 9.9909019e-01\n",
            "  5.6098124e-06 1.0742484e-06 6.7686223e-08 9.0264832e-04 7.8908933e-08]]\n"
          ]
        }
      ]
    },
    {
      "cell_type": "code",
      "source": [
        "pred = np.argmax(pred_example)\n",
        "print(pred)"
      ],
      "metadata": {
        "colab": {
          "base_uri": "https://localhost:8080/"
        },
        "id": "6l3y0pcxW_Xv",
        "outputId": "fdf1e74b-5bfa-420a-a535-6418885d2b9c"
      },
      "execution_count": 41,
      "outputs": [
        {
          "output_type": "stream",
          "name": "stdout",
          "text": [
            "4\n"
          ]
        }
      ]
    },
    {
      "cell_type": "code",
      "source": [
        "# Загружаем картинку нарисованную на листе бумаги\n",
        "example = image.load_img('/content/6_.png', target_size=(28, 28), color_mode = 'grayscale') \n",
        "\n",
        "# Нарисуем картинку\n",
        "plt.imshow(example.convert('RGBA')) \n",
        "plt.show()"
      ],
      "metadata": {
        "colab": {
          "base_uri": "https://localhost:8080/",
          "height": 265
        },
        "id": "MzGw4fILW_jn",
        "outputId": "c4de84a2-298d-4390-c615-f2b0d8a2efee"
      },
      "execution_count": 42,
      "outputs": [
        {
          "output_type": "display_data",
          "data": {
            "image/png": "[encoded data removed]",
            "text/plain": [
              "<Figure size 432x288 with 1 Axes>"
            ]
          },
          "metadata": {
            "needs_background": "light"
          }
        }
      ]
    },
    {
      "cell_type": "code",
      "source": [
        "example = image.img_to_array(example)\n",
        "example = example.reshape(1,784)\n",
        "print(example)"
      ],
      "metadata": {
        "colab": {
          "base_uri": "https://localhost:8080/"
        },
        "id": "Hyi9dl7UXMOJ",
        "outputId": "6392701f-cd32-40a2-a6bc-eb7ff8f6cbbb"
      },
      "execution_count": 43,
      "outputs": [
        {
          "output_type": "stream",
          "name": "stdout",
          "text": [
            "[[213. 210. 208. 205. 207. 208. 211. 209. 209. 208. 208. 206. 209. 211.\n",
            "  209. 210. 210. 211. 208. 210. 212. 212. 213. 213. 210. 216. 215. 214.\n",
            "  206. 209. 205. 209. 207. 209. 212. 208. 208. 211. 206. 208. 210. 209.\n",
            "  209. 212. 209. 215. 211. 209. 212. 213. 213. 211. 213. 212. 211. 211.\n",
            "  209. 214. 205. 208. 206. 214. 210. 209. 207. 209. 209. 210. 213. 211.\n",
            "  207. 214. 211. 212. 207. 212. 212. 207. 210. 215. 212. 213. 217. 214.\n",
            "  208. 209. 212. 209. 206. 208. 211. 210. 211. 209. 212. 208. 209. 207.\n",
            "  208. 211. 211. 211. 211. 211. 211. 211. 211. 211. 215. 210. 210. 212.\n",
            "  211. 207. 208. 209. 204. 206. 206. 208. 211. 208. 211. 208. 207. 207.\n",
            "  216. 211. 214. 217. 214. 210. 211. 212. 211. 211. 213. 210. 212. 212.\n",
            "  206. 208. 211. 206. 208. 208. 208. 209. 209. 207. 209. 209. 209. 209.\n",
            "  208. 122.  83.  55.  59. 188. 211. 213. 210. 210. 209. 211. 211. 211.\n",
            "  210. 208. 208. 206. 205. 208. 208. 213. 211. 204. 210. 208. 207. 217.\n",
            "   92.  68. 209. 209.  55. 107. 210. 210. 212. 212. 211. 211. 211. 211.\n",
            "  207. 208. 208. 206. 208. 208. 208. 209. 207. 208. 207. 205. 214.  75.\n",
            "   62. 210. 208. 202.  51. 209. 207. 211. 212. 210. 212. 210. 210. 213.\n",
            "  205. 208. 208. 207. 208. 204. 206. 206. 209. 210. 208. 207.  66.  56.\n",
            "  208. 207. 214. 212. 211. 211. 209. 212. 211. 212. 212. 210. 209. 210.\n",
            "  203. 205. 208. 204. 205. 207. 207. 209. 208. 208. 213. 117.  53. 205.\n",
            "  210. 210. 211. 211. 212. 212. 209. 210. 212. 210. 210. 211. 211. 211.\n",
            "  208. 207. 209. 208. 211. 202. 208. 208. 208. 209. 199.  38. 219. 211.\n",
            "  209. 208. 210. 211. 212. 211. 211. 212. 212. 210. 213. 210. 211. 212.\n",
            "  206. 209. 207. 209. 208. 206. 209. 211. 210. 211.  56. 105. 209. 209.\n",
            "  209. 209. 208. 211. 210. 211. 211. 212. 209. 209. 209. 210. 210. 210.\n",
            "  208. 206. 209. 208. 209. 209. 212. 213. 210. 199.  46. 226. 209. 208.\n",
            "  209. 209. 210. 212. 210. 210. 210. 210. 212. 212. 213. 212. 211. 211.\n",
            "  209. 208. 209. 208. 211. 211. 209. 207. 209.  47.  61. 212. 207. 207.\n",
            "  187.  77. 172. 210. 212. 210. 211. 210. 212. 212. 209. 210. 211. 211.\n",
            "  207. 209. 211. 209. 208. 211. 210. 208. 202.  87. 148. 214.  95.  34.\n",
            "   56.  56.  72. 135. 209. 212. 211. 212. 210. 210. 209. 213. 210. 213.\n",
            "  211. 208. 210. 208. 210. 210. 209. 208. 198.  49. 142.  60.  59. 216.\n",
            "  211. 208.  63.  68. 186. 211. 210. 212. 211. 211. 212. 211. 213. 210.\n",
            "  208. 208. 208. 209. 209. 209. 209. 208. 132.  51.  45.  65. 217. 211.\n",
            "  211. 212.  52.  44. 209. 211. 212. 211. 211. 211. 213. 211. 210. 210.\n",
            "  206. 209. 211. 210. 208. 208. 209. 208.  79.  55. 208. 215. 211. 212.\n",
            "  212. 215.  70.  73. 210. 211. 210. 211. 212. 212. 211. 211. 212. 210.\n",
            "  208. 209. 205. 205. 210. 203. 210. 209. 129.  62. 211. 209. 214. 214.\n",
            "  212.  56.  76. 222. 211. 211. 210. 211. 211. 211. 209. 211. 210. 211.\n",
            "  208. 206. 208. 210. 211. 212. 209. 212. 211.  62. 220. 210. 209. 215.\n",
            "   37.  57. 221. 212. 213. 213. 212. 213. 212. 212. 211. 210. 210. 209.\n",
            "  207. 207. 210. 208. 210. 213. 209. 209. 209. 158.  54.  69.  73.  51.\n",
            "  185. 213. 212. 212. 211. 211. 211. 212. 212. 212. 212. 210. 209. 211.\n",
            "  207. 209. 210. 210. 210. 210. 208. 209. 211. 210. 215. 170.  59. 219.\n",
            "  207. 210. 209. 211. 212. 211. 211. 208. 211. 211. 211. 212. 211. 210.\n",
            "  207. 209. 210. 211. 210. 210. 210. 211. 209. 210. 211. 208. 212. 212.\n",
            "  214. 211. 209. 211. 210. 211. 211. 210. 211. 211. 209. 212. 213. 210.\n",
            "  209. 207. 210. 209. 209. 209. 209. 209. 209. 210. 210. 210. 210. 210.\n",
            "  210. 211. 211. 211. 211. 211. 211. 210. 211. 213. 208. 209. 210. 210.\n",
            "  208. 208. 208. 210. 208. 206. 207. 208. 208. 209. 209. 208. 209. 209.\n",
            "  209. 211. 210. 210. 211. 210. 210. 210. 212. 211. 208. 210. 209. 209.\n",
            "  207. 209. 207. 207. 207. 207. 208. 209. 210. 208. 207. 209. 209. 209.\n",
            "  211. 211. 210. 211. 210. 209. 208. 209. 208. 208. 208. 207. 209. 209.\n",
            "  206. 207. 207. 207. 207. 208. 208. 208. 205. 208. 208. 208. 208. 209.\n",
            "  209. 209. 207. 210. 211. 210. 208. 208. 207. 208. 208. 208. 208. 208.\n",
            "  206. 204. 208. 211. 207. 207. 207. 207. 206. 208. 208. 209. 208. 208.\n",
            "  208. 208. 208. 207. 208. 208. 207. 207. 209. 209. 209. 210. 209. 208.]]\n"
          ]
        }
      ]
    },
    {
      "cell_type": "code",
      "source": [
        "example = np.where(example > 120, 255, example) # По условию меняем значения в масиве\n",
        "example"
      ],
      "metadata": {
        "colab": {
          "base_uri": "https://localhost:8080/"
        },
        "id": "rKSAGZo9XMX-",
        "outputId": "8a332181-bac9-4523-dcb0-5a68a6244673"
      },
      "execution_count": 46,
      "outputs": [
        {
          "output_type": "execute_result",
          "data": {
            "text/plain": [
              "array([[255., 255., 255., 255., 255., 255., 255., 255., 255., 255., 255.,\n",
              "        255., 255., 255., 255., 255., 255., 255., 255., 255., 255., 255.,\n",
              "        255., 255., 255., 255., 255., 255., 255., 255., 255., 255., 255.,\n",
              "        255., 255., 255., 255., 255., 255., 255., 255., 255., 255., 255.,\n",
              "        255., 255., 255., 255., 255., 255., 255., 255., 255., 255., 255.,\n",
              "        255., 255., 255., 255., 255., 255., 255., 255., 255., 255., 255.,\n",
              "        255., 255., 255., 255., 255., 255., 255., 255., 255., 255., 255.,\n",
              "        255., 255., 255., 255., 255., 255., 255., 255., 255., 255., 255.,\n",
              "        255., 255., 255., 255., 255., 255., 255., 255., 255., 255., 255.,\n",
              "        255., 255., 255., 255., 255., 255., 255., 255., 255., 255., 255.,\n",
              "        255., 255., 255., 255., 255., 255., 255., 255., 255., 255., 255.,\n",
              "        255., 255., 255., 255., 255., 255., 255., 255., 255., 255., 255.,\n",
              "        255., 255., 255., 255., 255., 255., 255., 255., 255., 255., 255.,\n",
              "        255., 255., 255., 255., 255., 255., 255., 255., 255., 255., 255.,\n",
              "        255., 255.,  83.,  55.,  59., 255., 255., 255., 255., 255., 255.,\n",
              "        255., 255., 255., 255., 255., 255., 255., 255., 255., 255., 255.,\n",
              "        255., 255., 255., 255., 255., 255.,  92.,  68., 255., 255.,  55.,\n",
              "        255., 255., 255., 255., 255., 255., 255., 255., 255., 255., 255.,\n",
              "        255., 255., 255., 255., 255., 255., 255., 255., 255., 255., 255.,\n",
              "         75.,  62., 255., 255., 255.,  51., 255., 255., 255., 255., 255.,\n",
              "        255., 255., 255., 255., 255., 255., 255., 255., 255., 255., 255.,\n",
              "        255., 255., 255., 255., 255.,  66.,  56., 255., 255., 255., 255.,\n",
              "        255., 255., 255., 255., 255., 255., 255., 255., 255., 255., 255.,\n",
              "        255., 255., 255., 255., 255., 255., 255., 255., 255., 255., 255.,\n",
              "         53., 255., 255., 255., 255., 255., 255., 255., 255., 255., 255.,\n",
              "        255., 255., 255., 255., 255., 255., 255., 255., 255., 255., 255.,\n",
              "        255., 255., 255., 255., 255.,  38., 255., 255., 255., 255., 255.,\n",
              "        255., 255., 255., 255., 255., 255., 255., 255., 255., 255., 255.,\n",
              "        255., 255., 255., 255., 255., 255., 255., 255., 255., 255.,  56.,\n",
              "        255., 255., 255., 255., 255., 255., 255., 255., 255., 255., 255.,\n",
              "        255., 255., 255., 255., 255., 255., 255., 255., 255., 255., 255.,\n",
              "        255., 255., 255., 255., 255.,  46., 255., 255., 255., 255., 255.,\n",
              "        255., 255., 255., 255., 255., 255., 255., 255., 255., 255., 255.,\n",
              "        255., 255., 255., 255., 255., 255., 255., 255., 255., 255.,  47.,\n",
              "         61., 255., 255., 255., 255.,  77., 255., 255., 255., 255., 255.,\n",
              "        255., 255., 255., 255., 255., 255., 255., 255., 255., 255., 255.,\n",
              "        255., 255., 255., 255., 255.,  87., 255., 255.,  95.,  34.,  56.,\n",
              "         56.,  72., 255., 255., 255., 255., 255., 255., 255., 255., 255.,\n",
              "        255., 255., 255., 255., 255., 255., 255., 255., 255., 255., 255.,\n",
              "         49., 255.,  60.,  59., 255., 255., 255.,  63.,  68., 255., 255.,\n",
              "        255., 255., 255., 255., 255., 255., 255., 255., 255., 255., 255.,\n",
              "        255., 255., 255., 255., 255., 255.,  51.,  45.,  65., 255., 255.,\n",
              "        255., 255.,  52.,  44., 255., 255., 255., 255., 255., 255., 255.,\n",
              "        255., 255., 255., 255., 255., 255., 255., 255., 255., 255., 255.,\n",
              "         79.,  55., 255., 255., 255., 255., 255., 255.,  70.,  73., 255.,\n",
              "        255., 255., 255., 255., 255., 255., 255., 255., 255., 255., 255.,\n",
              "        255., 255., 255., 255., 255., 255., 255.,  62., 255., 255., 255.,\n",
              "        255., 255.,  56.,  76., 255., 255., 255., 255., 255., 255., 255.,\n",
              "        255., 255., 255., 255., 255., 255., 255., 255., 255., 255., 255.,\n",
              "        255., 255.,  62., 255., 255., 255., 255.,  37.,  57., 255., 255.,\n",
              "        255., 255., 255., 255., 255., 255., 255., 255., 255., 255., 255.,\n",
              "        255., 255., 255., 255., 255., 255., 255., 255., 255.,  54.,  69.,\n",
              "         73.,  51., 255., 255., 255., 255., 255., 255., 255., 255., 255.,\n",
              "        255., 255., 255., 255., 255., 255., 255., 255., 255., 255., 255.,\n",
              "        255., 255., 255., 255., 255., 255.,  59., 255., 255., 255., 255.,\n",
              "        255., 255., 255., 255., 255., 255., 255., 255., 255., 255., 255.,\n",
              "        255., 255., 255., 255., 255., 255., 255., 255., 255., 255., 255.,\n",
              "        255., 255., 255., 255., 255., 255., 255., 255., 255., 255., 255.,\n",
              "        255., 255., 255., 255., 255., 255., 255., 255., 255., 255., 255.,\n",
              "        255., 255., 255., 255., 255., 255., 255., 255., 255., 255., 255.,\n",
              "        255., 255., 255., 255., 255., 255., 255., 255., 255., 255., 255.,\n",
              "        255., 255., 255., 255., 255., 255., 255., 255., 255., 255., 255.,\n",
              "        255., 255., 255., 255., 255., 255., 255., 255., 255., 255., 255.,\n",
              "        255., 255., 255., 255., 255., 255., 255., 255., 255., 255., 255.,\n",
              "        255., 255., 255., 255., 255., 255., 255., 255., 255., 255., 255.,\n",
              "        255., 255., 255., 255., 255., 255., 255., 255., 255., 255., 255.,\n",
              "        255., 255., 255., 255., 255., 255., 255., 255., 255., 255., 255.,\n",
              "        255., 255., 255., 255., 255., 255., 255., 255., 255., 255., 255.,\n",
              "        255., 255., 255., 255., 255., 255., 255., 255., 255., 255., 255.,\n",
              "        255., 255., 255., 255., 255., 255., 255., 255., 255., 255., 255.,\n",
              "        255., 255., 255., 255., 255., 255., 255., 255., 255., 255., 255.,\n",
              "        255., 255., 255.]], dtype=float32)"
            ]
          },
          "metadata": {},
          "execution_count": 46
        }
      ]
    },
    {
      "cell_type": "code",
      "source": [
        "plt.imshow(Image.fromarray(example.reshape(28,28)).convert('RGBA')) # Нарисуем картинку после обработки\n",
        "plt.show()"
      ],
      "metadata": {
        "colab": {
          "base_uri": "https://localhost:8080/",
          "height": 265
        },
        "id": "JI4DpSWtXMhZ",
        "outputId": "cfe48bf7-f649-45c3-d815-64ec786f222b"
      },
      "execution_count": 47,
      "outputs": [
        {
          "output_type": "display_data",
          "data": {
            "image/png": "[encoded data removed]",
            "text/plain": [
              "<Figure size 432x288 with 1 Axes>"
            ]
          },
          "metadata": {
            "needs_background": "light"
          }
        }
      ]
    },
    {
      "cell_type": "code",
      "source": [
        "# Нормализуем данные\n",
        "example = example.astype('float32')\n",
        "example = 1 - example/255 # Делаем инверсию, чтобы было не черное на белом, а белая цифра на черном фоне"
      ],
      "metadata": {
        "id": "wKadaQunXY4E"
      },
      "execution_count": 48,
      "outputs": []
    },
    {
      "cell_type": "code",
      "source": [
        "pred_example = model.predict(example)\n",
        "pred_example"
      ],
      "metadata": {
        "colab": {
          "base_uri": "https://localhost:8080/"
        },
        "id": "NqdhmHXuXZDB",
        "outputId": "241412e4-46dd-45da-8f16-bbcd383e04d4"
      },
      "execution_count": 49,
      "outputs": [
        {
          "output_type": "execute_result",
          "data": {
            "text/plain": [
              "array([[1.12708294e-05, 1.03558804e-07, 4.95706117e-05, 5.52767476e-09,\n",
              "        4.16925474e-07, 4.31889857e-05, 9.99748051e-01, 1.49907609e-09,\n",
              "        1.46016464e-04, 1.35494543e-06]], dtype=float32)"
            ]
          },
          "metadata": {},
          "execution_count": 49
        }
      ]
    },
    {
      "cell_type": "code",
      "source": [
        "pred = np.argmax(pred_example)\n",
        "pred"
      ],
      "metadata": {
        "colab": {
          "base_uri": "https://localhost:8080/"
        },
        "id": "FXmvjMhlXZNN",
        "outputId": "a05f3b41-bb4d-447f-8c1a-3f71862cf9f2"
      },
      "execution_count": 50,
      "outputs": [
        {
          "output_type": "execute_result",
          "data": {
            "text/plain": [
              "6"
            ]
          },
          "metadata": {},
          "execution_count": 50
        }
      ]
    }
  ]
}